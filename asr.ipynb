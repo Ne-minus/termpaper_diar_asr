{
  "cells": [
    {
      "cell_type": "markdown",
      "metadata": {
        "id": "QQHuyPHbiR43"
      },
      "source": [
        "# Data preprocessing"
      ]
    },
    {
      "cell_type": "code",
      "execution_count": null,
      "metadata": {
        "id": "k4PNG1zozAbF"
      },
      "outputs": [],
      "source": [
        "!wget -c https://drive.google.com/file/d/1TDPRZgJ6ysEcy26ZqyY0ds_8cFAOBbCZ/view?usp=sharing\n",
        "!unzip /content/audio.zip #your audios here"
      ]
    },
    {
      "cell_type": "code",
      "execution_count": null,
      "metadata": {
        "id": "7hr9Bi-AZH1J"
      },
      "outputs": [],
      "source": [
        "import pandas as pd\n",
        "import os\n",
        "import re\n",
        "from tqdm import tqdm"
      ]
    },
    {
      "cell_type": "code",
      "execution_count": null,
      "metadata": {
        "id": "YYqK8D2GZLea"
      },
      "outputs": [],
      "source": [
        "df = pd.read_csv('/content/asr_data.csv') #your dataset here"
      ]
    },
    {
      "cell_type": "code",
      "execution_count": null,
      "metadata": {
        "id": "Uc7Mgqa8Z1rK"
      },
      "outputs": [],
      "source": [
        "df[\"fpath\"] = './audio_to_release/' + df[\"lang\"].astype(str) + \"/\" + df[\"source\"].astype(str) #adding paths to file to dataset\n",
        "all_paths = df['fpath']\n",
        "all_paths = list(set(all_paths))"
      ]
    },
    {
      "cell_type": "code",
      "execution_count": null,
      "metadata": {
        "id": "uXS1kKrh3Y_L"
      },
      "outputs": [],
      "source": [
        "df['fpath'] = df['fpath'].apply(lambda x: x.replace(' ', '_')) #removing spaces in dataset's paths"
      ]
    },
    {
      "cell_type": "code",
      "execution_count": null,
      "metadata": {
        "id": "z4A1QbSRfm3Y"
      },
      "outputs": [],
      "source": [
        "df = df.reset_index() #adding indexes(id)\n",
        "df"
      ]
    },
    {
      "cell_type": "code",
      "execution_count": null,
      "metadata": {
        "id": "3w7C0UIk8AFj"
      },
      "outputs": [],
      "source": [
        "print(all_paths)"
      ]
    },
    {
      "cell_type": "code",
      "execution_count": null,
      "metadata": {
        "id": "SHle3Sn9aG7e"
      },
      "outputs": [],
      "source": [
        "for i in range(len(all_paths)): #correcting filenames\n",
        "  os.rename(all_paths[i], all_paths[i].replace(' ', '_'))\n",
        "  all_paths[i] = all_paths[i].replace(' ', '_')"
      ]
    },
    {
      "cell_type": "code",
      "execution_count": null,
      "metadata": {
        "id": "CtqVxc3paJN2"
      },
      "outputs": [],
      "source": [
        "for i in tqdm(all_paths): #resampling and recoding to wav\n",
        "    os.system('ffmpeg -i {} -acodec pcm_s16le -ar 16000 {}.wav'.format(i, i.replace('.mp4','').replace('.WAV', '').replace('.wav', '')))"
      ]
    },
    {
      "cell_type": "code",
      "source": [
        "already_wavs = ['/content/audio_to_release/yrk/Katushka_VorontsovoNENETS_A_48-16.wav', '/content/audio_to_release/yrk/TOYa_audio_TNenets.wav']\n",
        "for i in already_wavs: #resampling wavs\n",
        "  !ffmpeg -i {i} -ar 16000 {i}"
      ],
      "metadata": {
        "id": "rBjh6XD12_Tk"
      },
      "execution_count": null,
      "outputs": []
    },
    {
      "cell_type": "code",
      "execution_count": null,
      "metadata": {
        "id": "hkXN2bj3cWgj"
      },
      "outputs": [],
      "source": [
        "dir_name = \"/content/audio_to_release\" #getting rid of mp4 files\n",
        "\n",
        "def remover(directory):\n",
        "  for item in os.listdir(directory):\n",
        "    if item.endswith(\".mp4\") or item.endswith(\".WAV\"):\n",
        "        os.remove(os.path.join(directory, item))"
      ]
    },
    {
      "cell_type": "code",
      "execution_count": null,
      "metadata": {
        "id": "f0JETcCNeQwj"
      },
      "outputs": [],
      "source": [
        "dirs = os.listdir(dir_name) \n",
        "for i in range(len(dirs)):\n",
        "  dirs[i] = \"/content/audio_to_release/\" + dirs[i]"
      ]
    },
    {
      "cell_type": "code",
      "execution_count": null,
      "metadata": {
        "id": "ppp5GLcKfBZm"
      },
      "outputs": [],
      "source": [
        "for item in dirs:\n",
        "  remover(item)"
      ]
    },
    {
      "cell_type": "code",
      "execution_count": null,
      "metadata": {
        "id": "Hd-eu_qff7fQ"
      },
      "outputs": [],
      "source": [
        "def replacer(fpath): #new paths in dataframe's column 'fpath', because dragged files to MyDrive folder\n",
        "  fpath = fpath.replace('.mp4', '.wav').replace('.WAV', '.wav')\n",
        "  return fpath"
      ]
    },
    {
      "cell_type": "code",
      "execution_count": null,
      "metadata": {
        "id": "Haxv4AsXghLK"
      },
      "outputs": [],
      "source": [
        "df['fpath'] = df['fpath'].apply(replacer)"
      ]
    },
    {
      "cell_type": "code",
      "execution_count": null,
      "metadata": {
        "id": "5bbktluognzm"
      },
      "outputs": [],
      "source": [
        "all_paths_new = list(set(df['fpath']))"
      ]
    },
    {
      "cell_type": "code",
      "execution_count": null,
      "metadata": {
        "id": "uTV7g4O0h-A7"
      },
      "outputs": [],
      "source": [
        "print(all_paths_new)"
      ]
    },
    {
      "cell_type": "code",
      "execution_count": null,
      "metadata": {
        "id": "DnJ9eksOVmxI"
      },
      "outputs": [],
      "source": [
        "new_dir = '/content/new_audio' #new directory for cut files\n",
        "if os.path.exists(new_dir) is False:\n",
        "  os.mkdir(new_dir)\n",
        "else:\n",
        "  print('folder already exists')"
      ]
    },
    {
      "cell_type": "code",
      "execution_count": null,
      "metadata": {
        "id": "RJrag14wYh6f"
      },
      "outputs": [],
      "source": [
        "def cutter(fpath, start, stop, index): #cutting files accroding to timecodes\n",
        "  !ffmpeg -i {fpath} -ss {str(start)} -to {str(stop)} {'/content/new_audio/' + str(index)}.wav"
      ]
    },
    {
      "cell_type": "code",
      "execution_count": null,
      "metadata": {
        "id": "rO0VuTRU6wD3"
      },
      "outputs": [],
      "source": [
        "dictionary = df.set_index('index').T.to_dict('list')\n",
        "print(dictionary)"
      ]
    },
    {
      "cell_type": "code",
      "execution_count": null,
      "metadata": {
        "id": "Czc5jSIFhRlP"
      },
      "outputs": [],
      "source": [
        "for i in tqdm(dictionary):\n",
        "  cutter(dictionary[i][5], dictionary[i][0], dictionary[i][1], i)\n",
        "  print(i)"
      ]
    },
    {
      "cell_type": "code",
      "execution_count": null,
      "metadata": {
        "id": "HPOl8kJsIyD5"
      },
      "outputs": [],
      "source": [
        "df['new_path'] = df['index'].apply(lambda x: '/content/new_audio/' + str(x) + '.wav') #making column for paths of cut files\n"
      ]
    },
    {
      "cell_type": "markdown",
      "metadata": {
        "id": "_JM05dwUiNNq"
      },
      "source": [
        "# ASR\n"
      ]
    },
    {
      "cell_type": "code",
      "source": [
        "from google.colab import drive\n",
        "drive.mount('/content/drive')"
      ],
      "metadata": {
        "id": "-Ger00HvvwHL"
      },
      "execution_count": null,
      "outputs": []
    },
    {
      "cell_type": "code",
      "execution_count": null,
      "metadata": {
        "id": "IHPOoxmeiP-Y"
      },
      "outputs": [],
      "source": [
        "!pip install transformers datasets phonemizer\n",
        "!apt install espeak\n",
        "!pip install pydub\n",
        "\n",
        "from transformers import AutoModelForCTC, Wav2Vec2Processor\n",
        "\n",
        "model = AutoModelForCTC.from_pretrained(\"facebook/wav2vec2-xlsr-53-espeak-cv-ft\")\n",
        "processor = Wav2Vec2Processor.from_pretrained(\"facebook/wav2vec2-xlsr-53-espeak-cv-ft\")\n"
      ]
    },
    {
      "cell_type": "code",
      "execution_count": null,
      "metadata": {
        "id": "uNn96mm8i0xB"
      },
      "outputs": [],
      "source": [
        "import torch\n",
        "import torchaudio\n",
        "from tqdm import tqdm\n",
        "def recognizer(fpath):\n",
        "  try:\n",
        "    tqdm()\n",
        "    waveform, sample_rate = torchaudio.load(fpath)\n",
        "    logits = model(waveform).logits\n",
        "    pred_ids = torch.argmax(logits, dim=-1)\n",
        "    pred_str = processor.batch_decode(pred_ids)[0]\n",
        "    return pred_str\n",
        "  except:\n",
        "    return 0"
      ]
    },
    {
      "cell_type": "code",
      "execution_count": null,
      "metadata": {
        "id": "E8KKynnFJWvb"
      },
      "outputs": [],
      "source": [
        "df['recognised'] = df['new_path'].apply(recognizer)"
      ]
    },
    {
      "cell_type": "code",
      "source": [
        "df['transcription'] = df['transcription'].apply(lambda x: x.strip('.«,').replace('=', '').replace(' ', '').replace('Ø', ' '))#clearing punctuation marks and spaces\n",
        "df['transcription'] = df['transcription'].apply(lambda x: re.sub('\\(.+?\\)', '', x))\n",
        "df['recognised'] = df['recognised'].apply(lambda x: str(x).replace(' ',''))"
      ],
      "metadata": {
        "id": "iNYTKdMdKhSt"
      },
      "execution_count": null,
      "outputs": []
    },
    {
      "cell_type": "code",
      "source": [
        "def fill_empty(string): #filling empty strings\n",
        "  if string == '':\n",
        "    string = '-'\n",
        "  return string"
      ],
      "metadata": {
        "id": "Cq9qyyxZLUs2"
      },
      "execution_count": null,
      "outputs": []
    },
    {
      "cell_type": "code",
      "source": [
        "df['transcription'] = df['transcription'].apply(fill_empty)"
      ],
      "metadata": {
        "id": "rYLCiAifLfRu"
      },
      "execution_count": null,
      "outputs": []
    },
    {
      "cell_type": "markdown",
      "metadata": {
        "id": "bpkbdD_yuE1x"
      },
      "source": [
        "# Evaluation\n",
        "levinsshtein-distance"
      ]
    },
    {
      "cell_type": "code",
      "execution_count": null,
      "metadata": {
        "id": "1C_CPRpzuMWH"
      },
      "outputs": [],
      "source": [
        "!pip install  python-Levenshtein"
      ]
    },
    {
      "cell_type": "code",
      "execution_count": null,
      "metadata": {
        "id": "gVHbVMS0udcM"
      },
      "outputs": [],
      "source": [
        "from Levenshtein import distance"
      ]
    },
    {
      "cell_type": "code",
      "execution_count": null,
      "metadata": {
        "id": "8r5Z88QAvsjP"
      },
      "outputs": [],
      "source": [
        "df[\"distance\"] = df[[\"transcription\", \"recognised\"]].apply(lambda row: distance(row[\"transcription\"], row[\"recognised\"]) if not pd.isna(row[\"transcription\"]) else pd.NA, axis=1)"
      ]
    },
    {
      "cell_type": "code",
      "execution_count": null,
      "metadata": {
        "id": "t2PYmNL3wRIm"
      },
      "outputs": [],
      "source": [
        "df[\"len\"] = df.apply(lambda x: len(x[\"transcription\"]) if not pd.isna(x[\"transcription\"]) else pd.NA, axis=1)"
      ]
    },
    {
      "cell_type": "code",
      "execution_count": null,
      "metadata": {
        "id": "X93TijFZwbUz"
      },
      "outputs": [],
      "source": [
        "df[[\"transcription\", \"recognised\", \"distance\", \"len\"]]"
      ]
    },
    {
      "cell_type": "code",
      "execution_count": null,
      "metadata": {
        "id": "wIhrcIPVxe4S"
      },
      "outputs": [],
      "source": [
        "!pip install jiwer"
      ]
    },
    {
      "cell_type": "code",
      "execution_count": null,
      "metadata": {
        "id": "atubt3R8xmCn"
      },
      "outputs": [],
      "source": [
        "from jiwer import cer"
      ]
    },
    {
      "cell_type": "code",
      "execution_count": null,
      "metadata": {
        "id": "JUg3IeQ7xn13"
      },
      "outputs": [],
      "source": [
        "df[\"cer\"] = df[[\"transcription\", \"recognised\"]].apply(lambda row: cer(row[\"transcription\"], row[\"recognised\"]) if not pd.isna(row[\"transcription\"]) else pd.NA, axis=1)"
      ]
    },
    {
      "cell_type": "code",
      "execution_count": null,
      "metadata": {
        "id": "WeITJ1x7x_HF"
      },
      "outputs": [],
      "source": [
        "df[[\"transcription\", \"recognised\", \"distance\", \"len\", 'cer']].to_csv('acr_recognised_wmetrics.csv', sep=',', encoding='utf-8') #results"
      ]
    }
  ],
  "metadata": {
    "colab": {
      "collapsed_sections": [
        "QQHuyPHbiR43"
      ],
      "name": "asr.ipynb",
      "provenance": []
    },
    "kernelspec": {
      "display_name": "Python 3",
      "name": "python3"
    },
    "language_info": {
      "name": "python"
    }
  },
  "nbformat": 4,
  "nbformat_minor": 0
}