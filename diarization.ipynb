{
  "nbformat": 4,
  "nbformat_minor": 0,
  "metadata": {
    "colab": {
      "name": "diarization.ipynb",
      "provenance": [],
      "toc_visible": true,
      "collapsed_sections": [
        "lk3JBaGyTzYU"
      ]
    },
    "kernelspec": {
      "name": "python3",
      "display_name": "Python 3"
    },
    "language_info": {
      "name": "python"
    }
  },
  "cells": [
    {
      "cell_type": "markdown",
      "source": [
        "# Data preprocessing"
      ],
      "metadata": {
        "id": "Z7js94bngg30"
      }
    },
    {
      "cell_type": "code",
      "source": [
        "import os\n",
        "from tqdm import tqdm"
      ],
      "metadata": {
        "id": "L2OENoC1PLWf"
      },
      "execution_count": 2,
      "outputs": []
    },
    {
      "cell_type": "code",
      "source": [
        "!unzip /content/drive/MyDrive/audio.zip #your audios here"
      ],
      "metadata": {
        "id": "35zzUkgXKdpQ"
      },
      "execution_count": null,
      "outputs": []
    },
    {
      "cell_type": "code",
      "source": [
        "import pandas as pd\n",
        "df = pd.read_csv('/content/dia_data.csv') #your dataset"
      ],
      "metadata": {
        "id": "4b9mIJG6eg2x"
      },
      "execution_count": 4,
      "outputs": []
    },
    {
      "cell_type": "code",
      "source": [
        "df['fpath'] = '/content/audio_to_release/' + df['lang'] + '/' + df['source']"
      ],
      "metadata": {
        "id": "kOEgS1aPifVI"
      },
      "execution_count": 5,
      "outputs": []
    },
    {
      "cell_type": "code",
      "source": [
        "df['fpath'] = df['fpath'].apply(lambda x: x.replace(' ', '_')) #removing spaces in dataset's paths"
      ],
      "metadata": {
        "id": "L0w_T09MjDIs"
      },
      "execution_count": 6,
      "outputs": []
    },
    {
      "cell_type": "code",
      "source": [
        "all_paths = df['fpath']\n",
        "all_paths = list(set(all_paths))"
      ],
      "metadata": {
        "id": "NuEpf8lSOxYY"
      },
      "execution_count": 7,
      "outputs": []
    },
    {
      "cell_type": "code",
      "source": [
        "df = df.reset_index() #adding indexes(id)"
      ],
      "metadata": {
        "id": "xJK3XutQNurQ"
      },
      "execution_count": 9,
      "outputs": []
    },
    {
      "cell_type": "code",
      "source": [
        "df2 = pd.DataFrame(df.drop(['speaker', 'source', 'lang', 'index'], axis=1).groupby('fpath').apply(dict)).reset_index()\n",
        "df2['coord_start'] = df2[0].apply(lambda x: x['start'])\n",
        "df2['coord_end'] = df2[0].apply(lambda x: list(x['end'])[-1])\n",
        "df2"
      ],
      "metadata": {
        "id": "4cygiPVzEXYP"
      },
      "execution_count": null,
      "outputs": []
    },
    {
      "cell_type": "code",
      "source": [
        "dict_coord = df2.set_index('fpath').T.to_dict('list')"
      ],
      "metadata": {
        "id": "YrwDy5OsMiS1"
      },
      "execution_count": null,
      "outputs": []
    },
    {
      "cell_type": "code",
      "source": [
        "def cutter(fpath, start, stop, index): #cutting files accroding to timecodes\n",
        "  !ffmpeg -i {fpath} -ss {str(start)} -to {str(stop)} -ar 16000 {index}.wav"
      ],
      "metadata": {
        "id": "vFATr7xbB98v"
      },
      "execution_count": null,
      "outputs": []
    },
    {
      "cell_type": "code",
      "source": [
        "from tqdm import tqdm\n",
        "for i in tqdm(dict_coord):\n",
        "  cutter(i, dict_coord[i][1], dict_coord[i][2], i)\n",
        "  #print(i, int(dict_coord[i][1]), dict_coord[i][2])"
      ],
      "metadata": {
        "id": "vxvE1zufM6bv"
      },
      "execution_count": null,
      "outputs": []
    },
    {
      "cell_type": "code",
      "source": [
        "dir_name = \"/content/audio_to_release\" #getting rid of large files\n",
        "\n",
        "def remover(directory):\n",
        "  for item in os.listdir(directory):\n",
        "    if (not '.wav.wav' in item) and (not '.mp4.wav' in item) and (not '.WAV.wav' in item):\n",
        "      os.remove(os.path.join(directory, item))"
      ],
      "metadata": {
        "id": "twI1rrcGS0EQ"
      },
      "execution_count": null,
      "outputs": []
    },
    {
      "cell_type": "code",
      "source": [
        "dirs = os.listdir(dir_name) \n",
        "for i in range(len(dirs)):\n",
        "  dirs[i] = \"/content/audio_to_release/\" + dirs[i]"
      ],
      "metadata": {
        "id": "WzZ5NPMQTFPK"
      },
      "execution_count": null,
      "outputs": []
    },
    {
      "cell_type": "code",
      "source": [
        "for item in dirs:\n",
        "  remover(item)"
      ],
      "metadata": {
        "id": "9dT2yeR6TIxM"
      },
      "execution_count": null,
      "outputs": []
    },
    {
      "cell_type": "code",
      "source": [
        "def replacer(fpath): #new paths in dataframe's column 'fpath' according to new file names\n",
        "  fpath = fpath.replace('.wav', '.wav.wav').replace('.mp4', '.mp4.wav').replace('.WAV', '.WAV.wav')\n",
        "  return fpath"
      ],
      "metadata": {
        "id": "BBkC-vblTNvp"
      },
      "execution_count": null,
      "outputs": []
    },
    {
      "cell_type": "code",
      "source": [
        "df['fpath'] = df['fpath'].apply(replacer)"
      ],
      "metadata": {
        "id": "1Ra9Srp9TOtg"
      },
      "execution_count": null,
      "outputs": []
    },
    {
      "cell_type": "code",
      "source": [
        "df"
      ],
      "metadata": {
        "id": "ciH8T17ya99I"
      },
      "execution_count": null,
      "outputs": []
    },
    {
      "cell_type": "code",
      "source": [
        "all_paths = set(list(df['fpath']))"
      ],
      "metadata": {
        "id": "vWFW0BFhTiIQ"
      },
      "execution_count": null,
      "outputs": []
    },
    {
      "cell_type": "code",
      "source": [
        "print(all_paths)"
      ],
      "metadata": {
        "id": "t9knDJy1Tlc2"
      },
      "execution_count": null,
      "outputs": []
    },
    {
      "cell_type": "markdown",
      "source": [
        "# New shape for dataset"
      ],
      "metadata": {
        "id": "lk3JBaGyTzYU"
      }
    },
    {
      "cell_type": "code",
      "source": [
        "path_dict = {}\n",
        "for idx, row in df.iterrows():\n",
        "    if row['fpath'] in path_dict:\n",
        "        if row['speaker'] in path_dict[row['fpath']]:\n",
        "            path_dict[row['fpath']][row['speaker']]['start'].append(row['start'])\n",
        "            path_dict[row['fpath']][row['speaker']]['end'].append(row['end'])\n",
        "        else:\n",
        "            path_dict[row['fpath']][row['speaker']] = {'start': [row['start']], 'end' : [row['end']]}\n",
        "    else:\n",
        "        path_dict[row['fpath']] = {row['speaker']: {'start': [row['start']], 'end' : [row['end']]}}"
      ],
      "metadata": {
        "id": "annRzqv8g2cY"
      },
      "execution_count": 26,
      "outputs": []
    },
    {
      "cell_type": "code",
      "source": [
        "print(path_dict)"
      ],
      "metadata": {
        "id": "smScOkVXCgSn"
      },
      "execution_count": null,
      "outputs": []
    },
    {
      "cell_type": "code",
      "source": [
        "path_dict_new = {}\n",
        "for path in path_dict.keys():\n",
        "    path_dict_new[path] = {}\n",
        "    for speaker in path_dict[path].keys():\n",
        "        path_dict_new[path][speaker] = {}\n",
        "        times = path_dict[path][speaker]\n",
        "        for i in range(1, len(times['start'])+1):\n",
        "            path_dict_new[path][speaker][i] = [times['start'][i-1], times['end'][i-1]]"
      ],
      "metadata": {
        "id": "mqUZRV8OoR0e"
      },
      "execution_count": 28,
      "outputs": []
    },
    {
      "cell_type": "code",
      "source": [
        "print(path_dict_new.items())"
      ],
      "metadata": {
        "id": "e1H8mwSEs3ge"
      },
      "execution_count": null,
      "outputs": []
    },
    {
      "cell_type": "code",
      "source": [
        "new_df = pd.DataFrame(path_dict_new.items(), columns=['file_path', 'source_data'])"
      ],
      "metadata": {
        "id": "bcV9jAcwtWe4"
      },
      "execution_count": 30,
      "outputs": []
    },
    {
      "cell_type": "code",
      "source": [
        "new_df"
      ],
      "metadata": {
        "id": "XYXnvzIe0Bkl"
      },
      "execution_count": null,
      "outputs": []
    },
    {
      "cell_type": "code",
      "source": [
        "new_df['speakers'] = new_df['source_data'].apply(len)\n",
        "new_df"
      ],
      "metadata": {
        "id": "Ld8Mty3V6k42"
      },
      "execution_count": null,
      "outputs": []
    },
    {
      "cell_type": "code",
      "source": [
        "new_df.to_csv('new_shape.csv')"
      ],
      "metadata": {
        "id": "NA0QHcUDu6cU"
      },
      "execution_count": 33,
      "outputs": []
    },
    {
      "cell_type": "markdown",
      "source": [
        "# Diarization"
      ],
      "metadata": {
        "id": "625yKlHzgrI6"
      }
    },
    {
      "cell_type": "code",
      "source": [
        "!pip install pyannote.audio pyannote.core\n",
        "!pip install pydub"
      ],
      "metadata": {
        "id": "SadPNhU4gtPm"
      },
      "execution_count": null,
      "outputs": []
    },
    {
      "cell_type": "code",
      "source": [
        "from pyannote.audio.features import RawAudio\n",
        "from IPython.display import Audio\n",
        "from sklearn.cluster import KMeans\n",
        "from pyannote.core import Segment, notebook\n",
        "import torch"
      ],
      "metadata": {
        "id": "YTn33zqvv673"
      },
      "execution_count": null,
      "outputs": []
    },
    {
      "cell_type": "code",
      "source": [
        "from pyannote.audio.features import RawAudio\n",
        "from IPython.display import Audio"
      ],
      "metadata": {
        "id": "16dHYShJfpWT"
      },
      "execution_count": null,
      "outputs": []
    },
    {
      "cell_type": "code",
      "source": [
        "device = torch.device(\"cuda\") if torch.cuda.is_available() else torch.device(\"cpu\")\n",
        "\n",
        "#clusterer = KMeans(n_clusters=2)\n",
        "pipeline = torch.hub.load('pyannote/pyannote-audio', 'dia', device=device)\n",
        "\n",
        "def max_loudness_of_segment(seg, waveform, nmax=1):\n",
        "  try:\n",
        "    notebook.crop = seg\n",
        "    plot = waveform.crop(seg, return_data=False)\n",
        "    return pd.Series(plot.data.squeeze()).abs().sort_values().tail(nmax).mean()\n",
        "  except Exception as e:\n",
        "    print(e, waveform)\n",
        "    "
      ],
      "metadata": {
        "id": "C43kP6y3wkZe"
      },
      "execution_count": null,
      "outputs": []
    },
    {
      "cell_type": "code",
      "source": [
        "def diarizator(fpath, speakers): #diarization function\n",
        "  try:\n",
        "    clusterer = KMeans(n_clusters=int(speakers))\n",
        "    OWN_FILE = {'audio': fpath}\n",
        "    waveform = RawAudio()(OWN_FILE)\n",
        "    print(waveform)\n",
        "    diarization = pipeline(OWN_FILE)\n",
        "\n",
        "    segments = list(diarization.itersegments())\n",
        "\n",
        "    segments_loudnesses_df = pd.Series([max_loudness_of_segment(seg, waveform, 3) for seg in segments])\n",
        "    cluster_ids = clusterer.fit_predict(segments_loudnesses_df.to_numpy().reshape(-1, 1)).tolist()\n",
        "\n",
        "    diarization_di = diarization.for_json()\n",
        "    for diarization_seg, cluster_id in tqdm(zip(diarization_di[\"content\"], cluster_ids)):\n",
        "        seg_length = diarization_seg[\"segment\"][\"end\"] - diarization_seg[\"segment\"][\"start\"]\n",
        "        label = cluster_id if seg_length > 0.4 else None\n",
        "        diarization_seg[\"label\"] = label\n",
        "    return diarization_di\n",
        "  except Exception as e:\n",
        "    print(e)"
      ],
      "metadata": {
        "id": "3NoHuB-Sf305"
      },
      "execution_count": null,
      "outputs": []
    },
    {
      "cell_type": "code",
      "source": [
        "new_df['recognised'] = new_df.apply(lambda x: diarizator(x['file_path'], x['speakers']), axis=1)"
      ],
      "metadata": {
        "id": "zuA_isx39gMy"
      },
      "execution_count": null,
      "outputs": []
    },
    {
      "cell_type": "code",
      "source": [
        "def len_source(dictionary):\n",
        "  counter = 0\n",
        "  for i in dictionary:\n",
        "    counter+= len(dictionary[i])\n",
        "  return counter\n",
        "\n",
        "def len_regignised(lst):\n",
        "  try:\n",
        "    return len(lst)\n",
        "  except:\n",
        "    return 0\n",
        "\n",
        "new_df['segs_source'] = new_df['source_data'].apply(len_source) #counting in source file\n",
        "new_df['segs_recognised'] = new_df['recognised'].apply(len_regignised) #counting in source file"
      ],
      "metadata": {
        "id": "iFEYKe3x_ur7"
      },
      "execution_count": null,
      "outputs": []
    },
    {
      "cell_type": "code",
      "source": [
        "new_df['distance'] = new_df['segs_source']-new_df['segs_recognised']"
      ],
      "metadata": {
        "id": "qMgU0ajUA2w-"
      },
      "execution_count": null,
      "outputs": []
    },
    {
      "cell_type": "code",
      "source": [
        "def to_dicts(lst):\n",
        "  try:\n",
        "    new_dict = {}\n",
        "    for i in range(len(lst)):\n",
        "      new_dict[i] = lst[i]\n",
        "    return new_dict\n",
        "  except:\n",
        "    return 0\n",
        "new_df['recognised_dict'] = new_df['recognised'].apply(to_dicts) #output to dict"
      ],
      "metadata": {
        "id": "03GRsoGziSBB"
      },
      "execution_count": null,
      "outputs": []
    },
    {
      "cell_type": "code",
      "source": [
        "def speakers_rec(dictionary):\n",
        "  lst = []\n",
        "  try:\n",
        "    for i in dictionary:\n",
        "      for j in i:\n",
        "        if j == 'label':\n",
        "          lst.append(i[j])\n",
        "    return len(set(lst))\n",
        "  except:\n",
        "    return 0\n",
        "new_df['speakers_rec'] = new_df['recognised'].apply(speakers_rec) "
      ],
      "metadata": {
        "id": "I4ep53lecllD"
      },
      "execution_count": null,
      "outputs": []
    },
    {
      "cell_type": "code",
      "source": [
        "new_df['speaker_distance'] = new_df['speakers']-new_df['speakers_rec'] #distance between the number of speakers\n",
        "new_df"
      ],
      "metadata": {
        "id": "UJUJwsfrhawE"
      },
      "execution_count": null,
      "outputs": []
    },
    {
      "cell_type": "markdown",
      "source": [
        ""
      ],
      "metadata": {
        "id": "B2zb9HbJxLH9"
      }
    },
    {
      "cell_type": "code",
      "source": [
        "new_df.to_csv('diar_simple_metrics.csv')"
      ],
      "metadata": {
        "id": "CAtFIXegh7lx"
      },
      "execution_count": null,
      "outputs": []
    },
    {
      "cell_type": "markdown",
      "source": [
        "# Evaluation results"
      ],
      "metadata": {
        "id": "eq8AkBjQie5l"
      }
    },
    {
      "cell_type": "code",
      "source": [
        "import matplotlib.pyplot as plt\n",
        "import pandas as pd\n",
        "x = [list(new_df['distance'].values),\n",
        "     list(new_df['speaker_distance'].values)]\n",
        "df = pd.DataFrame(x, index=['Distance in the number of segments', 'Distance in the number of speakers'])\n",
        "\n",
        "\n",
        "df.T.boxplot(vert=False, figsize=(20,10))\n",
        "plt.subplots_adjust(left=0.25)\n",
        "plt.show()"
      ],
      "metadata": {
        "colab": {
          "base_uri": "https://localhost:8080/",
          "height": 592
        },
        "id": "54FewqkniiAO",
        "outputId": "a7674439-014c-4710-91c1-37149610fdb4"
      },
      "execution_count": null,
      "outputs": [
        {
          "output_type": "display_data",
          "data": {
            "text/plain": [
              "<Figure size 1440x720 with 1 Axes>"
            ],
            "image/png": "[encoded data removed]"
          },
          "metadata": {
            "needs_background": "light"
          }
        }
      ]
    }
  ]
}